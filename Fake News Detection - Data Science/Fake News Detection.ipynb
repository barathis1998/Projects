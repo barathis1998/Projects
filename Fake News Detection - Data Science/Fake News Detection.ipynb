{
 "cells": [
  {
   "cell_type": "markdown",
   "id": "50d57339-5d07-496a-bd1b-0a56d8806dac",
   "metadata": {},
   "source": [
    "# **Fake News Detection**"
   ]
  },
  {
   "cell_type": "code",
   "execution_count": 1,
   "id": "13dba265-a309-4d79-a376-4dd91365c49e",
   "metadata": {},
   "outputs": [
    {
     "name": "stderr",
     "output_type": "stream",
     "text": [
      "[nltk_data] Downloading package stopwords to\n",
      "[nltk_data]     C:\\Users\\BARATHI\\AppData\\Roaming\\nltk_data...\n",
      "[nltk_data]   Package stopwords is already up-to-date!\n"
     ]
    }
   ],
   "source": [
    "import pandas as pd\n",
    "import numpy as np\n",
    "import seaborn as sns\n",
    "import matplotlib.pyplot as plot\n",
    "from sklearn.model_selection import train_test_split\n",
    "from sklearn.metrics import accuracy_score\n",
    "from sklearn.metrics import classification_report\n",
    "import re\n",
    "import string\n",
    "from nltk.stem import SnowballStemmer\n",
    "import nltk\n",
    "import matplotlib as matpl\n",
    "from nltk.corpus import stopwords\n",
    "nltk.download('stopwords')\n",
    "from sklearn.metrics import confusion_matrix"
   ]
  },
  {
   "cell_type": "code",
   "execution_count": 2,
   "id": "734e900a-9474-48d8-ab73-2f4d66048fcd",
   "metadata": {},
   "outputs": [],
   "source": [
    "#Loading data from CSV Files\n",
    "fake_dataframe = pd.read_csv(\"Fake_ds.csv\")\n",
    "true_dataframe = pd.read_csv(\"True_ds.csv\")"
   ]
  },
  {
   "cell_type": "code",
   "execution_count": 3,
   "id": "9985126f-28d9-4d15-a272-6b9edc29fb34",
   "metadata": {},
   "outputs": [],
   "source": [
    "#Labelling true and fake news as 0 and 1\n",
    "fake_dataframe[\"class\"] = 0\n",
    "true_dataframe[\"class\"] = 1"
   ]
  },
  {
   "cell_type": "code",
   "execution_count": 4,
   "id": "0a5320ff-6764-4e11-9bf8-45f44c501940",
   "metadata": {},
   "outputs": [
    {
     "data": {
      "text/plain": [
       "((23481, 5), (21417, 5))"
      ]
     },
     "execution_count": 4,
     "metadata": {},
     "output_type": "execute_result"
    }
   ],
   "source": [
    "fake_dataframe.shape, true_dataframe.shape"
   ]
  },
  {
   "cell_type": "code",
   "execution_count": 5,
   "id": "c99c0001-c8c1-4a38-acd2-69aa25070d31",
   "metadata": {},
   "outputs": [],
   "source": [
    "#removing some data for manual testing\n",
    "df_fake_manual_testing = fake_dataframe.tail(10)\n",
    "for i in range(23480,23470,-1):\n",
    "    fake_dataframe.drop([i], axis = 0, inplace = True)\n",
    "    \n",
    "    \n",
    "df_true_manual_testing = true_dataframe.tail(10)\n",
    "for i in range(21416,21406,-1):\n",
    "    fake_dataframe.drop([i], axis = 0, inplace = True)"
   ]
  },
  {
   "cell_type": "code",
   "execution_count": 6,
   "id": "bede48d1-c0c4-4dd1-b022-cfaedd940ae6",
   "metadata": {},
   "outputs": [
    {
     "data": {
      "text/plain": [
       "((23461, 5), (21417, 5))"
      ]
     },
     "execution_count": 6,
     "metadata": {},
     "output_type": "execute_result"
    }
   ],
   "source": [
    "fake_dataframe.shape, true_dataframe.shape"
   ]
  },
  {
   "cell_type": "code",
   "execution_count": 7,
   "id": "89cd8d8c-48e0-402f-b94c-a15dc8866f52",
   "metadata": {},
   "outputs": [
    {
     "data": {
      "text/plain": [
       "Index(['title', 'text', 'subject', 'date', 'class'], dtype='object')"
      ]
     },
     "execution_count": 7,
     "metadata": {},
     "output_type": "execute_result"
    }
   ],
   "source": [
    "#merging both fake and true dataframes\n",
    "df_merge = pd.concat([fake_dataframe,true_dataframe], axis =0 )\n",
    "df_merge.head(10)\n",
    "df_merge.columns"
   ]
  },
  {
   "cell_type": "code",
   "execution_count": 8,
   "id": "2855bec5-c16b-44a7-8373-55f877d16310",
   "metadata": {},
   "outputs": [],
   "source": [
    "df = df_merge.drop([\"title\", \"subject\",\"date\"], axis = 1)"
   ]
  },
  {
   "cell_type": "code",
   "execution_count": 9,
   "id": "2b811499-55d3-45c1-8658-ca76d092af3d",
   "metadata": {},
   "outputs": [
    {
     "data": {
      "text/plain": [
       "text     0\n",
       "class    0\n",
       "dtype: int64"
      ]
     },
     "execution_count": 9,
     "metadata": {},
     "output_type": "execute_result"
    }
   ],
   "source": [
    "df.isnull().sum()"
   ]
  },
  {
   "cell_type": "code",
   "execution_count": 10,
   "id": "7222fa21-1217-4c06-9a3d-295bbd48012e",
   "metadata": {},
   "outputs": [],
   "source": [
    "#shuffling data\n",
    "df = df.sample(frac = 1)"
   ]
  },
  {
   "cell_type": "code",
   "execution_count": 11,
   "id": "82d932ad-57e8-43ee-aef6-103743d45fac",
   "metadata": {},
   "outputs": [
    {
     "data": {
      "text/plain": [
       "<AxesSubplot:>"
      ]
     },
     "execution_count": 11,
     "metadata": {},
     "output_type": "execute_result"
    },
    {
     "data": {
      "image/png": "[encoded data removed]",
      "text/plain": [
       "<Figure size 432x288 with 1 Axes>"
      ]
     },
     "metadata": {
      "needs_background": "light"
     },
     "output_type": "display_data"
    }
   ],
   "source": [
    "#data visualization \n",
    "df['class'].value_counts().plot(kind = \"barh\",color=\"blue\")"
   ]
  },
  {
   "cell_type": "code",
   "execution_count": 12,
   "id": "31b092d5-f2db-4955-b60d-7e7b1b4a1ce9",
   "metadata": {},
   "outputs": [
    {
     "data": {
      "text/html": [
       "<div>\n",
       "<style scoped>\n",
       "    .dataframe tbody tr th:only-of-type {\n",
       "        vertical-align: middle;\n",
       "    }\n",
       "\n",
       "    .dataframe tbody tr th {\n",
       "        vertical-align: top;\n",
       "    }\n",
       "\n",
       "    .dataframe thead th {\n",
       "        text-align: right;\n",
       "    }\n",
       "</style>\n",
       "<table border=\"1\" class=\"dataframe\">\n",
       "  <thead>\n",
       "    <tr style=\"text-align: right;\">\n",
       "      <th></th>\n",
       "      <th>text</th>\n",
       "      <th>class</th>\n",
       "      <th>length</th>\n",
       "    </tr>\n",
       "  </thead>\n",
       "  <tbody>\n",
       "    <tr>\n",
       "      <th>14755</th>\n",
       "      <td>Who would ve guessed? A coalition of U.S.-base...</td>\n",
       "      <td>0</td>\n",
       "      <td>1985</td>\n",
       "    </tr>\n",
       "    <tr>\n",
       "      <th>22428</th>\n",
       "      <td>Shawn Helton  21st Century WireIn the wake of ...</td>\n",
       "      <td>0</td>\n",
       "      <td>13440</td>\n",
       "    </tr>\n",
       "    <tr>\n",
       "      <th>8303</th>\n",
       "      <td>There s been a meme spreading across social me...</td>\n",
       "      <td>0</td>\n",
       "      <td>2340</td>\n",
       "    </tr>\n",
       "    <tr>\n",
       "      <th>2629</th>\n",
       "      <td>The GOP likes to pretend that they have no iss...</td>\n",
       "      <td>0</td>\n",
       "      <td>3326</td>\n",
       "    </tr>\n",
       "    <tr>\n",
       "      <th>4093</th>\n",
       "      <td>WASHINGTON (Reuters) - U.S. President Donald T...</td>\n",
       "      <td>1</td>\n",
       "      <td>5488</td>\n",
       "    </tr>\n",
       "  </tbody>\n",
       "</table>\n",
       "</div>"
      ],
      "text/plain": [
       "                                                    text  class  length\n",
       "14755  Who would ve guessed? A coalition of U.S.-base...      0    1985\n",
       "22428  Shawn Helton  21st Century WireIn the wake of ...      0   13440\n",
       "8303   There s been a meme spreading across social me...      0    2340\n",
       "2629   The GOP likes to pretend that they have no iss...      0    3326\n",
       "4093   WASHINGTON (Reuters) - U.S. President Donald T...      1    5488"
      ]
     },
     "execution_count": 12,
     "metadata": {},
     "output_type": "execute_result"
    }
   ],
   "source": [
    "# adding length column to count the numer of words\n",
    "df['length'] = df['text'].apply(len)\n",
    "df.head()"
   ]
  },
  {
   "cell_type": "code",
   "execution_count": 13,
   "id": "a208ef14-915f-4c8f-8501-86da3f679205",
   "metadata": {},
   "outputs": [
    {
     "data": {
      "text/plain": [
       "array([<AxesSubplot:title={'center':'0'}>,\n",
       "       <AxesSubplot:title={'center':'1'}>], dtype=object)"
      ]
     },
     "execution_count": 13,
     "metadata": {},
     "output_type": "execute_result"
    },
    {
     "data": {
      "image/png": "[encoded data removed]",
      "text/plain": [
       "<Figure size 792x360 with 2 Axes>"
      ]
     },
     "metadata": {
      "needs_background": "light"
     },
     "output_type": "display_data"
    }
   ],
   "source": [
    "# visualizing data length\n",
    "matpl.rcParams['patch.force_edgecolor'] = True\n",
    "plot.style.use('seaborn-bright')\n",
    "df.hist(column='length', by='class', bins=50,figsize=(11,5))"
   ]
  },
  {
   "cell_type": "code",
   "execution_count": 14,
   "id": "474ea5ff-ccd1-46cd-aedc-b3e2e984d1d7",
   "metadata": {},
   "outputs": [],
   "source": [
    "df.reset_index(inplace = True)\n",
    "df.drop([\"index\"], axis = 1, inplace = True)"
   ]
  },
  {
   "cell_type": "code",
   "execution_count": 15,
   "id": "03c5b970-4bbc-4a76-ade5-bc3655354c9f",
   "metadata": {},
   "outputs": [
    {
     "data": {
      "text/plain": [
       "Index(['text', 'class', 'length'], dtype='object')"
      ]
     },
     "execution_count": 15,
     "metadata": {},
     "output_type": "execute_result"
    }
   ],
   "source": [
    "df.columns"
   ]
  },
  {
   "cell_type": "code",
   "execution_count": 16,
   "id": "be7eb146-1a59-4482-8e8c-d796245a25ae",
   "metadata": {},
   "outputs": [
    {
     "data": {
      "text/html": [
       "<div>\n",
       "<style scoped>\n",
       "    .dataframe tbody tr th:only-of-type {\n",
       "        vertical-align: middle;\n",
       "    }\n",
       "\n",
       "    .dataframe tbody tr th {\n",
       "        vertical-align: top;\n",
       "    }\n",
       "\n",
       "    .dataframe thead th {\n",
       "        text-align: right;\n",
       "    }\n",
       "</style>\n",
       "<table border=\"1\" class=\"dataframe\">\n",
       "  <thead>\n",
       "    <tr style=\"text-align: right;\">\n",
       "      <th></th>\n",
       "      <th>text</th>\n",
       "      <th>class</th>\n",
       "      <th>length</th>\n",
       "    </tr>\n",
       "  </thead>\n",
       "  <tbody>\n",
       "    <tr>\n",
       "      <th>0</th>\n",
       "      <td>Who would ve guessed? A coalition of U.S.-base...</td>\n",
       "      <td>0</td>\n",
       "      <td>1985</td>\n",
       "    </tr>\n",
       "    <tr>\n",
       "      <th>1</th>\n",
       "      <td>Shawn Helton  21st Century WireIn the wake of ...</td>\n",
       "      <td>0</td>\n",
       "      <td>13440</td>\n",
       "    </tr>\n",
       "    <tr>\n",
       "      <th>2</th>\n",
       "      <td>There s been a meme spreading across social me...</td>\n",
       "      <td>0</td>\n",
       "      <td>2340</td>\n",
       "    </tr>\n",
       "    <tr>\n",
       "      <th>3</th>\n",
       "      <td>The GOP likes to pretend that they have no iss...</td>\n",
       "      <td>0</td>\n",
       "      <td>3326</td>\n",
       "    </tr>\n",
       "    <tr>\n",
       "      <th>4</th>\n",
       "      <td>WASHINGTON (Reuters) - U.S. President Donald T...</td>\n",
       "      <td>1</td>\n",
       "      <td>5488</td>\n",
       "    </tr>\n",
       "  </tbody>\n",
       "</table>\n",
       "</div>"
      ],
      "text/plain": [
       "                                                text  class  length\n",
       "0  Who would ve guessed? A coalition of U.S.-base...      0    1985\n",
       "1  Shawn Helton  21st Century WireIn the wake of ...      0   13440\n",
       "2  There s been a meme spreading across social me...      0    2340\n",
       "3  The GOP likes to pretend that they have no iss...      0    3326\n",
       "4  WASHINGTON (Reuters) - U.S. President Donald T...      1    5488"
      ]
     },
     "execution_count": 16,
     "metadata": {},
     "output_type": "execute_result"
    }
   ],
   "source": [
    "df.head()"
   ]
  },
  {
   "cell_type": "code",
   "execution_count": 17,
   "id": "af972978-c883-452d-82be-25cdbbec694d",
   "metadata": {},
   "outputs": [],
   "source": [
    "#Preprocessing the data\n",
    "#removing unwanted texts,spaces, and converting all alphabets to lower case\n",
    "def wordopt(word):\n",
    "    word = word.lower()\n",
    "    word = re.sub('\\[.*?\\]', '', word)\n",
    "    word = re.sub(\"\\\\W\",\" \",word) \n",
    "    word = re.sub('https?://\\S+|www\\.\\S+', '', word)\n",
    "    word = re.sub('<.*?>+', '', word)\n",
    "    word = re.sub('[%s]' % re.escape(string.punctuation), '', word)\n",
    "    word = re.sub('\\n', '', word)\n",
    "    word = re.sub('\\w*\\d\\w*', '', word)    \n",
    "    return word"
   ]
  },
  {
   "cell_type": "code",
   "execution_count": 18,
   "id": "9690e8d1-a659-4553-af07-344d620dcf4c",
   "metadata": {},
   "outputs": [],
   "source": [
    "df[\"text\"] = df[\"text\"].apply(wordopt)"
   ]
  },
  {
   "cell_type": "code",
   "execution_count": 19,
   "id": "eb421fe5-b72a-49cf-a8bf-a97555a4d600",
   "metadata": {},
   "outputs": [],
   "source": [
    "#defining x (feature) and y(target) for dataset splitting\n",
    "x = df[\"text\"]\n",
    "y = df[\"class\"]"
   ]
  },
  {
   "cell_type": "code",
   "execution_count": 20,
   "id": "b504f0b0-cf05-40ce-a7bd-ea46bfd464d8",
   "metadata": {},
   "outputs": [],
   "source": [
    "#Data Set Preperation\n",
    "# splitting data into training and testing dataset\n",
    "x_train, x_test, y_train, y_test = train_test_split(x, y, test_size=0.25)"
   ]
  },
  {
   "cell_type": "code",
   "execution_count": 21,
   "id": "33b6c0c4-dc8b-4fea-9924-13752262dd5c",
   "metadata": {},
   "outputs": [],
   "source": [
    "#vectorizing the data and converting the data to sparse matrix\n",
    "from sklearn.feature_extraction.text import TfidfVectorizer\n",
    "\n",
    "vect = TfidfVectorizer()\n",
    "xv_train = vect.fit_transform(x_train)\n",
    "xv_test = vect.transform(x_test)"
   ]
  },
  {
   "cell_type": "code",
   "execution_count": 22,
   "id": "34612829-600d-457e-af88-10167af152d4",
   "metadata": {},
   "outputs": [],
   "source": [
    "#implementing all machine learning models\n",
    "\n",
    "#1 Logistic Regression\n",
    "from sklearn.linear_model import LogisticRegression\n",
    "\n",
    "LR = LogisticRegression()\n",
    "from sklearn.tree import DecisionTreeClassifier\n",
    "\n",
    "#2 Decision Tree Classifier\n",
    "DT = DecisionTreeClassifier()\n",
    "\n",
    "#3 Gradient Boosting Classifier\n",
    "from sklearn.ensemble import GradientBoostingClassifier\n",
    "\n",
    "GBC = GradientBoostingClassifier(random_state=0)\n",
    "\n",
    "#4 Random Forest Classifier\n",
    "from sklearn.ensemble import RandomForestClassifier\n",
    "\n",
    "RFC = RandomForestClassifier(random_state=0)"
   ]
  },
  {
   "cell_type": "code",
   "execution_count": 23,
   "id": "b41c01b2-38d4-4b6e-a98f-3e188707bd15",
   "metadata": {},
   "outputs": [],
   "source": [
    "clfs = {'LR':LR,'DT':DT,'GBC':GBC,'RFC':RFC}"
   ]
  },
  {
   "cell_type": "code",
   "execution_count": 24,
   "id": "d292a0b1-0465-42af-b4e9-2926a1223d2f",
   "metadata": {},
   "outputs": [],
   "source": [
    "# function to train data\n",
    "def train_classifier(clf, train_dataset, train_values):    \n",
    "    clf.fit(train_dataset, train_values)"
   ]
  },
  {
   "cell_type": "code",
   "execution_count": 25,
   "id": "7d7095c2-bdd8-4941-a9a6-1d23baf68f12",
   "metadata": {},
   "outputs": [],
   "source": [
    "# function to predict data\n",
    "def predict_labels(clf, test):\n",
    "    return (clf.predict(test))"
   ]
  },
  {
   "cell_type": "code",
   "execution_count": 26,
   "id": "96822b1b-3bc9-475e-9ae2-eeaf872551c5",
   "metadata": {},
   "outputs": [],
   "source": [
    "# looping through algorithms\n",
    "pred_scores = []\n",
    "for k,v in clfs.items():\n",
    "    train_classifier(v, xv_train, y_train)\n",
    "    pred = predict_labels(v,xv_test)\n",
    "    pred_scores.append((k, accuracy_score(y_test,pred)))"
   ]
  },
  {
   "cell_type": "code",
   "execution_count": 27,
   "id": "05d2fb81-542f-4ba0-900c-b93ea0bd631e",
   "metadata": {},
   "outputs": [
    {
     "data": {
      "text/html": [
       "<div>\n",
       "<style scoped>\n",
       "    .dataframe tbody tr th:only-of-type {\n",
       "        vertical-align: middle;\n",
       "    }\n",
       "\n",
       "    .dataframe tbody tr th {\n",
       "        vertical-align: top;\n",
       "    }\n",
       "\n",
       "    .dataframe thead th {\n",
       "        text-align: right;\n",
       "    }\n",
       "</style>\n",
       "<table border=\"1\" class=\"dataframe\">\n",
       "  <thead>\n",
       "    <tr style=\"text-align: right;\">\n",
       "      <th></th>\n",
       "      <th>Algorithm</th>\n",
       "      <th>Score</th>\n",
       "    </tr>\n",
       "  </thead>\n",
       "  <tbody>\n",
       "    <tr>\n",
       "      <th>0</th>\n",
       "      <td>LR</td>\n",
       "      <td>0.986542</td>\n",
       "    </tr>\n",
       "    <tr>\n",
       "      <th>1</th>\n",
       "      <td>DT</td>\n",
       "      <td>0.995900</td>\n",
       "    </tr>\n",
       "    <tr>\n",
       "      <th>2</th>\n",
       "      <td>GBC</td>\n",
       "      <td>0.995098</td>\n",
       "    </tr>\n",
       "    <tr>\n",
       "      <th>3</th>\n",
       "      <td>RFC</td>\n",
       "      <td>0.988681</td>\n",
       "    </tr>\n",
       "  </tbody>\n",
       "</table>\n",
       "</div>"
      ],
      "text/plain": [
       "  Algorithm     Score\n",
       "0        LR  0.986542\n",
       "1        DT  0.995900\n",
       "2       GBC  0.995098\n",
       "3       RFC  0.988681"
      ]
     },
     "execution_count": 27,
     "metadata": {},
     "output_type": "execute_result"
    }
   ],
   "source": [
    "df1 = pd.DataFrame(pred_scores,columns=['Algorithm','Score'])\n",
    "df1"
   ]
  },
  {
   "cell_type": "code",
   "execution_count": 28,
   "id": "7ba80922-424b-4872-86d9-0613e9b7d8fa",
   "metadata": {},
   "outputs": [
    {
     "data": {
      "text/plain": [
       "<matplotlib.legend.Legend at 0x2b805899700>"
      ]
     },
     "execution_count": 28,
     "metadata": {},
     "output_type": "execute_result"
    },
    {
     "data": {
      "image/png": "[encoded data removed]",
      "text/plain": [
       "<Figure size 792x432 with 1 Axes>"
      ]
     },
     "metadata": {
      "needs_background": "light"
     },
     "output_type": "display_data"
    }
   ],
   "source": [
    "#visualization for df1\n",
    "df1.plot(kind='bar', ylim=(0.9,1.0), figsize=(11,6), align='center', colormap=\"Accent\")\n",
    "plot.xticks(np.arange(4), ['Logistic Regression','Decision Tree Classifier','Gradient Boosting Classifier','Random Forest Classifier'])\n",
    "plot.ylabel('Accuracy_Score')\n",
    "plot.title('Distribution_by_Classifier')\n",
    "plot.legend(bbox_to_anchor=(1.05, 1), loc=2, borderaxespad=0.)"
   ]
  },
  {
   "cell_type": "code",
   "execution_count": null,
   "id": "a887eb23-4304-4964-aa94-59f187f7037a",
   "metadata": {},
   "outputs": [],
   "source": [
    "# stemming using SnowballStemmer \n",
    "def stemmer (word):\n",
    "    word = word.split()\n",
    "    words = \"\"\n",
    "    for i in word:\n",
    "            stemmer = SnowballStemmer(\"english\")\n",
    "            words += (stemmer.stem(i))+\" \"\n",
    "    return words"
   ]
  },
  {
   "cell_type": "code",
   "execution_count": 29,
   "id": "d0c1b5de-c0eb-42b3-b4c8-b0a040cf388e",
   "metadata": {},
   "outputs": [],
   "source": [
    "df3=df"
   ]
  },
  {
   "cell_type": "code",
   "execution_count": null,
   "id": "0671c86e-8285-4c29-9347-061d39d44438",
   "metadata": {},
   "outputs": [],
   "source": [
    "df3[\"text\"] = df3[\"text\"].apply(stemmer)"
   ]
  },
  {
   "cell_type": "code",
   "execution_count": 30,
   "id": "b04461a7-5a51-40c3-9eef-0d86e117e3b2",
   "metadata": {},
   "outputs": [],
   "source": [
    "x = df3[\"text\"]\n",
    "y = df3[\"class\"]"
   ]
  },
  {
   "cell_type": "code",
   "execution_count": 31,
   "id": "d64ce4ad-45b8-4d1a-b9d5-40e048b5d9c8",
   "metadata": {},
   "outputs": [],
   "source": [
    "x_train, x_test, y_train, y_test = train_test_split(x, y, test_size=0.25)"
   ]
  },
  {
   "cell_type": "code",
   "execution_count": 32,
   "id": "4ce25f0f-263b-4259-b627-cfe3cdbfa4a9",
   "metadata": {},
   "outputs": [],
   "source": [
    "from sklearn.feature_extraction.text import TfidfVectorizer\n",
    "\n",
    "vect = TfidfVectorizer()\n",
    "xv_train = vect.fit_transform(x_train)\n",
    "xv_test = vect.transform(x_test)"
   ]
  },
  {
   "cell_type": "code",
   "execution_count": 33,
   "id": "7e7ba3f9-1cb5-4ede-8456-6fb5fadc6053",
   "metadata": {},
   "outputs": [],
   "source": [
    "pred_scores = []\n",
    "for k,v in clfs.items():\n",
    "    train_classifier(v, xv_train, y_train)\n",
    "    pred = predict_labels(v,xv_test)\n",
    "    pred_scores.append((accuracy_score(y_test,pred)))"
   ]
  },
  {
   "cell_type": "code",
   "execution_count": 34,
   "id": "555bd9e1-3c57-4629-ba6e-5d3dc991c632",
   "metadata": {},
   "outputs": [
    {
     "data": {
      "text/html": [
       "<div>\n",
       "<style scoped>\n",
       "    .dataframe tbody tr th:only-of-type {\n",
       "        vertical-align: middle;\n",
       "    }\n",
       "\n",
       "    .dataframe tbody tr th {\n",
       "        vertical-align: top;\n",
       "    }\n",
       "\n",
       "    .dataframe thead th {\n",
       "        text-align: right;\n",
       "    }\n",
       "</style>\n",
       "<table border=\"1\" class=\"dataframe\">\n",
       "  <thead>\n",
       "    <tr style=\"text-align: right;\">\n",
       "      <th></th>\n",
       "      <th>Algorithm</th>\n",
       "      <th>Score</th>\n",
       "      <th>Score2</th>\n",
       "    </tr>\n",
       "  </thead>\n",
       "  <tbody>\n",
       "    <tr>\n",
       "      <th>0</th>\n",
       "      <td>LR</td>\n",
       "      <td>0.986542</td>\n",
       "      <td>0.987255</td>\n",
       "    </tr>\n",
       "    <tr>\n",
       "      <th>1</th>\n",
       "      <td>DT</td>\n",
       "      <td>0.995900</td>\n",
       "      <td>0.997237</td>\n",
       "    </tr>\n",
       "    <tr>\n",
       "      <th>2</th>\n",
       "      <td>GBC</td>\n",
       "      <td>0.995098</td>\n",
       "      <td>0.995365</td>\n",
       "    </tr>\n",
       "    <tr>\n",
       "      <th>3</th>\n",
       "      <td>RFC</td>\n",
       "      <td>0.988681</td>\n",
       "      <td>0.991266</td>\n",
       "    </tr>\n",
       "  </tbody>\n",
       "</table>\n",
       "</div>"
      ],
      "text/plain": [
       "  Algorithm     Score    Score2\n",
       "0        LR  0.986542  0.987255\n",
       "1        DT  0.995900  0.997237\n",
       "2       GBC  0.995098  0.995365\n",
       "3       RFC  0.988681  0.991266"
      ]
     },
     "execution_count": 34,
     "metadata": {},
     "output_type": "execute_result"
    }
   ],
   "source": [
    "df2 = pd.DataFrame(pred_scores,columns=['Score2'])\n",
    "df4 = pd.concat([df1,df2],axis=1)\n",
    "df4"
   ]
  },
  {
   "cell_type": "code",
   "execution_count": 35,
   "id": "c1ad3162-401d-4f5f-8085-924bbe54f33f",
   "metadata": {},
   "outputs": [
    {
     "data": {
      "text/plain": [
       "<matplotlib.legend.Legend at 0x2b810afca00>"
      ]
     },
     "execution_count": 35,
     "metadata": {},
     "output_type": "execute_result"
    },
    {
     "data": {
      "image/png": "[encoded data removed]",
      "text/plain": [
       "<Figure size 792x432 with 1 Axes>"
      ]
     },
     "metadata": {
      "needs_background": "light"
     },
     "output_type": "display_data"
    }
   ],
   "source": [
    "#visualization after stemming\n",
    "df4.plot(kind='bar', ylim=(0.85,1.0), figsize=(11,6), align='center', colormap=\"Accent\")\n",
    "plot.xticks(np.arange(4),['Logistic Regression','Decision Tree Classifier','Gradient Boosting Classifier','Random Forest Classifier'] )\n",
    "plot.ylabel('Accuracy Score')\n",
    "plot.title('Distribution by Classifier')\n",
    "plot.legend(bbox_to_anchor=(1.05, 1), loc=2, borderaxespad=0.)"
   ]
  },
  {
   "cell_type": "markdown",
   "id": "cf7d199a-1e3a-48c6-a154-75118411a6aa",
   "metadata": {},
   "source": [
    "<h1><center>2. Confusion Matrices for all the classifiers</center></h1>"
   ]
  },
  {
   "cell_type": "code",
   "execution_count": 36,
   "id": "978ca1ad-b60c-452a-8560-6fae84a1678e",
   "metadata": {},
   "outputs": [
    {
     "data": {
      "text/plain": [
       "LogisticRegression()"
      ]
     },
     "execution_count": 36,
     "metadata": {},
     "output_type": "execute_result"
    }
   ],
   "source": [
    "from sklearn.linear_model import LogisticRegression\n",
    "\n",
    "LR = LogisticRegression()\n",
    "LR.fit(xv_train,y_train)"
   ]
  },
  {
   "cell_type": "code",
   "execution_count": 37,
   "id": "85a5efd0-7eb6-4a37-a144-a06c42d8677a",
   "metadata": {},
   "outputs": [],
   "source": [
    "pred_lr=LR.predict(xv_test)"
   ]
  },
  {
   "cell_type": "code",
   "execution_count": 38,
   "id": "75e61626-319b-4496-b2ef-75e46fd4ebf1",
   "metadata": {},
   "outputs": [
    {
     "data": {
      "text/plain": [
       "array([[5808,   68],\n",
       "       [  75, 5269]], dtype=int64)"
      ]
     },
     "execution_count": 38,
     "metadata": {},
     "output_type": "execute_result"
    }
   ],
   "source": [
    "cm_lr=confusion_matrix(y_test,pred_lr)\n",
    "cm_lr"
   ]
  },
  {
   "cell_type": "code",
   "execution_count": 39,
   "id": "4d921b08-253b-4caf-b22a-26db3ae2233e",
   "metadata": {},
   "outputs": [
    {
     "data": {
      "image/png": "[encoded data removed]",
      "text/plain": [
       "<Figure size 720x504 with 2 Axes>"
      ]
     },
     "metadata": {
      "needs_background": "light"
     },
     "output_type": "display_data"
    }
   ],
   "source": [
    "import seaborn as sns\n",
    "plot.figure(figsize=(10,7))\n",
    "ax= plot.subplot()\n",
    "sns.heatmap(cm_lr, annot=True,cmap='Blues',annot_kws={\"size\":20},fmt=\"d\",ax=ax)\n",
    "ax.set_xlabel('Predicted labels',fontsize='18');ax.set_ylabel('True labels',fontsize='18'); \n",
    "#sns.heatmap(cm, annot=True, cmap='Blues', fmt='d', cbar=False)"
   ]
  },
  {
   "cell_type": "code",
   "execution_count": 40,
   "id": "c54b21cd-0d02-43ae-89be-e55c3b94e0e8",
   "metadata": {},
   "outputs": [
    {
     "name": "stdout",
     "output_type": "stream",
     "text": [
      "Score of Logistic Regression: 0.9872549019607844\n"
     ]
    }
   ],
   "source": [
    "print(\"Score of Logistic Regression:\",LR.score(xv_test, y_test))"
   ]
  },
  {
   "cell_type": "code",
   "execution_count": 41,
   "id": "7d00f4d4-dfda-4d78-a074-921e1971348a",
   "metadata": {},
   "outputs": [
    {
     "name": "stdout",
     "output_type": "stream",
     "text": [
      "              precision    recall  f1-score   support\n",
      "\n",
      "           0       0.99      0.99      0.99      5876\n",
      "           1       0.99      0.99      0.99      5344\n",
      "\n",
      "    accuracy                           0.99     11220\n",
      "   macro avg       0.99      0.99      0.99     11220\n",
      "weighted avg       0.99      0.99      0.99     11220\n",
      "\n"
     ]
    }
   ],
   "source": [
    "print(classification_report(y_test, pred_lr))"
   ]
  },
  {
   "cell_type": "code",
   "execution_count": 42,
   "id": "c3d20196-29ee-4a10-b861-997c67f5c0b2",
   "metadata": {},
   "outputs": [
    {
     "data": {
      "text/plain": [
       "DecisionTreeClassifier()"
      ]
     },
     "execution_count": 42,
     "metadata": {},
     "output_type": "execute_result"
    }
   ],
   "source": [
    "from sklearn.tree import DecisionTreeClassifier\n",
    "\n",
    "DT = DecisionTreeClassifier()\n",
    "DT.fit(xv_train, y_train)"
   ]
  },
  {
   "cell_type": "code",
   "execution_count": 43,
   "id": "f70c02d1-0abe-4022-9ce0-078549227c68",
   "metadata": {},
   "outputs": [],
   "source": [
    "pred_dt = DT.predict(xv_test)"
   ]
  },
  {
   "cell_type": "code",
   "execution_count": 44,
   "id": "308f62b1-1516-44e2-aead-332077551efb",
   "metadata": {},
   "outputs": [
    {
     "name": "stdout",
     "output_type": "stream",
     "text": [
      "Desicision Tree Classifier Score: 0.9971479500891266\n"
     ]
    }
   ],
   "source": [
    "print(\"Desicision Tree Classifier Score:\",DT.score(xv_test, y_test))"
   ]
  },
  {
   "cell_type": "code",
   "execution_count": 45,
   "id": "9bff3487-812f-49ba-b3c9-97abddab5a92",
   "metadata": {},
   "outputs": [
    {
     "name": "stdout",
     "output_type": "stream",
     "text": [
      "              precision    recall  f1-score   support\n",
      "\n",
      "           0       1.00      1.00      1.00      5876\n",
      "           1       1.00      1.00      1.00      5344\n",
      "\n",
      "    accuracy                           1.00     11220\n",
      "   macro avg       1.00      1.00      1.00     11220\n",
      "weighted avg       1.00      1.00      1.00     11220\n",
      "\n"
     ]
    }
   ],
   "source": [
    "print(classification_report(y_test, pred_dt))"
   ]
  },
  {
   "cell_type": "code",
   "execution_count": 46,
   "id": "d040c759-326a-4ca0-bd1f-81a5a7802938",
   "metadata": {},
   "outputs": [
    {
     "data": {
      "text/plain": [
       "array([[5863,   13],\n",
       "       [  19, 5325]], dtype=int64)"
      ]
     },
     "execution_count": 46,
     "metadata": {},
     "output_type": "execute_result"
    }
   ],
   "source": [
    "cm_dt=confusion_matrix(y_test,pred_dt)\n",
    "cm_dt"
   ]
  },
  {
   "cell_type": "code",
   "execution_count": 47,
   "id": "8f4b9621-5dd3-4ad6-aea1-688fd1744f49",
   "metadata": {},
   "outputs": [
    {
     "data": {
      "image/png": "[encoded data removed]",
      "text/plain": [
       "<Figure size 720x504 with 2 Axes>"
      ]
     },
     "metadata": {
      "needs_background": "light"
     },
     "output_type": "display_data"
    }
   ],
   "source": [
    "import seaborn as sns\n",
    "plot.figure(figsize=(10,7))\n",
    "ax= plot.subplot()\n",
    "sns.heatmap(cm_dt, annot=True,cmap='Blues',annot_kws={\"size\":20},fmt=\"d\",ax=ax)\n",
    "ax.set_xlabel('Predicted labels',fontsize='18');ax.set_ylabel('True labels',fontsize='18'); \n",
    "#sns.heatmap(cm, annot=True, cmap='Blues', fmt='d', cbar=False"
   ]
  },
  {
   "cell_type": "code",
   "execution_count": 48,
   "id": "e769c5a5-ab8f-430c-b671-ba75bad3b2f5",
   "metadata": {},
   "outputs": [
    {
     "data": {
      "text/plain": [
       "GradientBoostingClassifier(random_state=0)"
      ]
     },
     "execution_count": 48,
     "metadata": {},
     "output_type": "execute_result"
    }
   ],
   "source": [
    "from sklearn.ensemble import GradientBoostingClassifier\n",
    "\n",
    "GBC = GradientBoostingClassifier(random_state=0)\n",
    "GBC.fit(xv_train, y_train)"
   ]
  },
  {
   "cell_type": "code",
   "execution_count": 49,
   "id": "196059d1-93d4-41a5-8ee3-99a31c9758bf",
   "metadata": {},
   "outputs": [],
   "source": [
    "pred_gbc = GBC.predict(xv_test)"
   ]
  },
  {
   "cell_type": "code",
   "execution_count": 50,
   "id": "f0ad6c33-0d4c-4f32-83fc-911bd7ed6fb0",
   "metadata": {},
   "outputs": [
    {
     "data": {
      "text/plain": [
       "0.9953654188948307"
      ]
     },
     "execution_count": 50,
     "metadata": {},
     "output_type": "execute_result"
    }
   ],
   "source": [
    "GBC.score(xv_test, y_test)"
   ]
  },
  {
   "cell_type": "code",
   "execution_count": 51,
   "id": "6700452c-4028-412e-96a2-b90b3f90baa1",
   "metadata": {},
   "outputs": [
    {
     "name": "stdout",
     "output_type": "stream",
     "text": [
      "              precision    recall  f1-score   support\n",
      "\n",
      "           0       1.00      0.99      1.00      5876\n",
      "           1       0.99      1.00      1.00      5344\n",
      "\n",
      "    accuracy                           1.00     11220\n",
      "   macro avg       1.00      1.00      1.00     11220\n",
      "weighted avg       1.00      1.00      1.00     11220\n",
      "\n"
     ]
    }
   ],
   "source": [
    "print(classification_report(y_test, pred_gbc))"
   ]
  },
  {
   "cell_type": "code",
   "execution_count": 52,
   "id": "def03f3f-f93a-48cd-b33c-d2830d344864",
   "metadata": {},
   "outputs": [
    {
     "data": {
      "text/plain": [
       "array([[5845,   31],\n",
       "       [  21, 5323]], dtype=int64)"
      ]
     },
     "execution_count": 52,
     "metadata": {},
     "output_type": "execute_result"
    }
   ],
   "source": [
    "cm_gbc=confusion_matrix(y_test,pred_gbc)\n",
    "cm_gbc"
   ]
  },
  {
   "cell_type": "code",
   "execution_count": 53,
   "id": "f6a36af5-4be3-4fcf-a54b-9199e7cfd5be",
   "metadata": {},
   "outputs": [
    {
     "data": {
      "image/png": "[encoded data removed]",
      "text/plain": [
       "<Figure size 720x504 with 2 Axes>"
      ]
     },
     "metadata": {
      "needs_background": "light"
     },
     "output_type": "display_data"
    }
   ],
   "source": [
    "import seaborn as sns\n",
    "plot.figure(figsize=(10,7))\n",
    "ax= plot.subplot()\n",
    "sns.heatmap(cm_gbc, annot=True,cmap='Blues',annot_kws={\"size\":20},fmt=\"d\",ax=ax)\n",
    "ax.set_xlabel('Predicted labels',fontsize='18');ax.set_ylabel('True labels',fontsize='18'); \n",
    "#sns.heatmap(cm, annot=True, cmap='Blues', fmt='d', cbar=False)"
   ]
  },
  {
   "cell_type": "code",
   "execution_count": 54,
   "id": "69ad9187-be45-445a-8bfc-ff375f590192",
   "metadata": {},
   "outputs": [
    {
     "data": {
      "text/plain": [
       "RandomForestClassifier(random_state=0)"
      ]
     },
     "execution_count": 54,
     "metadata": {},
     "output_type": "execute_result"
    }
   ],
   "source": [
    "from sklearn.ensemble import RandomForestClassifier\n",
    "\n",
    "RFC = RandomForestClassifier(random_state=0)\n",
    "RFC.fit(xv_train, y_train)"
   ]
  },
  {
   "cell_type": "code",
   "execution_count": 55,
   "id": "6d12e9b8-d52b-41f3-900f-29d037bfcc21",
   "metadata": {},
   "outputs": [],
   "source": [
    "pred_rfc = RFC.predict(xv_test)"
   ]
  },
  {
   "cell_type": "code",
   "execution_count": 56,
   "id": "f8f5c8a1-e2e4-44f6-9486-65ad9c402f65",
   "metadata": {},
   "outputs": [
    {
     "data": {
      "text/plain": [
       "0.99126559714795"
      ]
     },
     "execution_count": 56,
     "metadata": {},
     "output_type": "execute_result"
    }
   ],
   "source": [
    "RFC.score(xv_test, y_test)"
   ]
  },
  {
   "cell_type": "code",
   "execution_count": 57,
   "id": "468c0c7e-c9f9-4597-9947-de206a593443",
   "metadata": {},
   "outputs": [
    {
     "name": "stdout",
     "output_type": "stream",
     "text": [
      "              precision    recall  f1-score   support\n",
      "\n",
      "           0       0.99      0.99      0.99      5876\n",
      "           1       0.99      0.99      0.99      5344\n",
      "\n",
      "    accuracy                           0.99     11220\n",
      "   macro avg       0.99      0.99      0.99     11220\n",
      "weighted avg       0.99      0.99      0.99     11220\n",
      "\n"
     ]
    }
   ],
   "source": [
    "print(classification_report(y_test, pred_rfc))"
   ]
  },
  {
   "cell_type": "code",
   "execution_count": 58,
   "id": "2b3e89e3-ac62-4754-9461-51397f35b325",
   "metadata": {},
   "outputs": [
    {
     "data": {
      "text/plain": [
       "array([[5837,   39],\n",
       "       [  59, 5285]], dtype=int64)"
      ]
     },
     "execution_count": 58,
     "metadata": {},
     "output_type": "execute_result"
    }
   ],
   "source": [
    "cm_rfc=confusion_matrix(y_test,pred_rfc)\n",
    "cm_rfc"
   ]
  },
  {
   "cell_type": "code",
   "execution_count": 59,
   "id": "9af423b7-768f-48a5-b21c-b7931f11e04b",
   "metadata": {},
   "outputs": [
    {
     "data": {
      "image/png": "[encoded data removed]",
      "text/plain": [
       "<Figure size 720x504 with 2 Axes>"
      ]
     },
     "metadata": {
      "needs_background": "light"
     },
     "output_type": "display_data"
    }
   ],
   "source": [
    "import seaborn as sns\n",
    "plot.figure(figsize=(10,7))\n",
    "ax= plot.subplot()\n",
    "sns.heatmap(cm_rfc, annot=True,cmap='Blues',annot_kws={\"size\":20},fmt=\"d\",ax=ax)\n",
    "ax.set_xlabel('Predicted labels',fontsize='18');ax.set_ylabel('True labels',fontsize='18'); "
   ]
  },
  {
   "cell_type": "markdown",
   "id": "efe41d7f-7512-4efa-a1eb-1688a6c738f1",
   "metadata": {},
   "source": [
    "<h1><center>3. Parameter Tuning</center></h1>"
   ]
  },
  {
   "cell_type": "code",
   "execution_count": null,
   "id": "4ba3a61a-68a6-40b5-a18c-1d1b7b2f44c2",
   "metadata": {},
   "outputs": [],
   "source": [
    "from sklearn.tree import DecisionTreeClassifier\n",
    "pred_scores = []\n",
    "for i in range(2,10):\n",
    "    dtc = DecisionTreeClassifier(min_samples_split=i, random_state=111)\n",
    "    dtc.fit(xv_train,y_train)\n",
    "    pred = dtc.predict(xv_test)\n",
    "    pred_scores.append((i, accuracy_score(y_test,pred)))\n",
    "pred_scores\n"
   ]
  },
  {
   "cell_type": "code",
   "execution_count": null,
   "id": "a418322b-c238-49a2-98b9-e3a74edb854b",
   "metadata": {},
   "outputs": [],
   "source": [
    "df6 = pd.DataFrame(pred_scores, columns=['Index','Score'])\n",
    "df6.plot(figsize=(11,6))"
   ]
  },
  {
   "cell_type": "code",
   "execution_count": null,
   "id": "7e906f88-2ec0-4e83-9887-e221d797cfb3",
   "metadata": {},
   "outputs": [],
   "source": [
    "slvr = {'newton-cg' : 'newton-cg', 'lbfgs': 'lbfgs', 'liblinear': 'liblinear', 'sag': 'sag'}\n",
    "pred_scores = []\n",
    "for k,v in slvr.items():\n",
    "    lrc = LogisticRegression(solver=v, penalty='l2')\n",
    "    lrc.fit(xv_train,y_train)\n",
    "    pred = lrc.predict(xv_test)\n",
    "    pred_scores.append((k, accuracy_score(y_test,pred)))\n",
    "df = pd.DataFrame(pred_scores, columns=['index','Score'])\n",
    "df.plot(figsize=(11,6))"
   ]
  },
  {
   "cell_type": "code",
   "execution_count": null,
   "id": "e51ab899-7066-4545-8a61-1e0651978755",
   "metadata": {},
   "outputs": [],
   "source": [
    "parameters = {\n",
    "    \"n_estimators\":[5,50],\n",
    "    \"max_depth\":[1,3],\n",
    "    \"learning_rate\":[0.01,0.1,1,10,100]\n",
    "}"
   ]
  },
  {
   "cell_type": "code",
   "execution_count": null,
   "id": "bd2830d8-afa2-4aa9-a4e3-afc1c034e4fb",
   "metadata": {},
   "outputs": [],
   "source": [
    "from sklearn.model_selection import GridSearchCV\n",
    "cv = GridSearchCV(GBC,parameters,cv=5)\n",
    "cv.fit(xv_train, y_train.values.ravel())"
   ]
  },
  {
   "cell_type": "markdown",
   "id": "4f1ab60d-4734-4e82-8184-5832bbbe3bcc",
   "metadata": {},
   "source": [
    "<h1><center>4. Manual Testing</center></h1>"
   ]
  },
  {
   "cell_type": "code",
   "execution_count": 60,
   "id": "f84ff3d3-ab74-4cd6-8e73-36d1b4571b3d",
   "metadata": {},
   "outputs": [],
   "source": [
    "def output_lable(n):\n",
    "    if n == 0:\n",
    "        return \"Fake News\"\n",
    "    elif n == 1:\n",
    "        return \"Not A Fake News\"\n",
    "    \n",
    "def manual_testing(news):\n",
    "    testing_news = {\"text\":[news]}\n",
    "    new_def_test = pd.DataFrame(testing_news)\n",
    "    new_def_test[\"text\"] = new_def_test[\"text\"].apply(wordopt) \n",
    "    new_x_test = new_def_test[\"text\"]\n",
    "    new_xv_test = vect.transform(new_x_test)\n",
    "    pred_LR = LR.predict(new_xv_test)\n",
    "    pred_DT = DT.predict(new_xv_test)\n",
    "    pred_GBC = GBC.predict(new_xv_test)\n",
    "    pred_RFC = RFC.predict(new_xv_test)\n",
    "\n",
    "    return print(\"\\n\\nLR Prediction: {} \\nDT Prediction: {} \\nGBC Prediction: {} \\nRFC Prediction: {}\".format(output_lable(pred_LR[0]),                                                                                                       output_lable(pred_DT[0]), \n",
    "                                                                                                              output_lable(pred_GBC[0]), \n",
    "                                                                                                              output_lable(pred_RFC[0])))"
   ]
  },
  {
   "cell_type": "code",
   "execution_count": 61,
   "id": "4f1fd71c-d58f-42d5-b806-4fcb32d4eac1",
   "metadata": {},
   "outputs": [
    {
     "name": "stdin",
     "output_type": "stream",
     "text": [
      " \ttext 21395\tHONG KONG (Reuters) - Typhoon Hato, a maximum category 10 storm, slammed into Hong Kong on Wednesday lashing the Asian financial hub with wind and rain that uprooted trees and forced most businesses to close, while in some places big waves flooded seaside streets. There were reports of 34 people injured in Hong Kong while in the city of Macau, across the Pearl River estuary, three people were killed, authorities there said. In Hong Kong, more than 450 flights were canceled, financial markets suspended and schools closed as Hato bore down, the first category 10 storm to hit the city since 2012.  I ve never seen one like this,  Garrett Quigley, a longtime resident of Lantau island to the west of the city, said of the storm.  Cars are half submerged and roads are impassable with flooding and huge trees down. It s crazy.   Many skyscrapers in the usually teeming streets of Hong Kong were empty and dark as office workers stayed at home. Hato, that means  sky pigeon  in Japanese, churned up Hong Kong s Victoria Harbor and triggered large swells and big waves on some of the city s most popular beaches, with serious flooding in low-lying areas. In residential districts such as Heng Fa Chuen on densely populated Hong Kong island, waves smashed against the sides of oceanfront buildings and surged over a promenade, sweeping away walls and benches and swamping vehicles parked nearby. Construction cranes swayed at the tops of skyscrapers, windows imploded and nearly 200 trees were uprooted, while some people used canoes to venture out into flooded streets. Authorities downgraded the storm to a category three by late-afternoon with government services, the courts, financial markets and companies set to resume normal business on Thursday. The storm also caused a power blackout across most of the gambling hub of Macau for about two hours, residents said, with disruption to mobile phone and internet networks. There was severe flooding on the streets, with some cars almost completely submerged, and the water supply was affected in some districts. The three men who died included a 45-year-old Chinese tourist who was hit by a heavy truck, according to a government statement. The former Portuguese colony s casinos, however, had backup power, two casino executives told Reuters.  The storm also made landfall in China s Guangdong province, in Zhuhai city adjacent to Macau, Chinese state news agency Xinhua reported.  Numerous flights and trains were canceled in Guangdong province, with Shenzhen s International Airport particularly badly hit. Thousands of residents along the Chinese coast were evacuated and fishing vessels were called back to port. Maximum winds near Hato s center were recorded at a destructive 155 kph (95 mph) as it continued to move west across Guangdong in the general direction of Hainan island. A senior scientific officer for the Hong Kong observatory warned that sea levels could rise several meters in some places, with the government issuing flood alerts and opening 27 shelters across the city.  Trading in Hong Kong s financial markets was halted for the day, the stock exchange said. Typhoon Nida in August last year was the last storm to close the exchange for the whole day. The city s flagship carrier, Cathay Pacific, and Hong Kong Airlines said the majority of their flights to and from Hong Kong between 2200 GMT Tuesday and 0900 GMT Wednesday would be canceled. Other transport services, including ferries to Macau and outlying islands in Hong Kong, were suspended. \n"
     ]
    },
    {
     "name": "stdout",
     "output_type": "stream",
     "text": [
      "\n",
      "\n",
      "LR Prediction: Not A Fake News \n",
      "DT Prediction: Not A Fake News \n",
      "GBC Prediction: Not A Fake News \n",
      "RFC Prediction: Not A Fake News\n"
     ]
    }
   ],
   "source": [
    "news = str(input())\n",
    "manual_testing(news)"
   ]
  },
  {
   "cell_type": "code",
   "execution_count": null,
   "id": "e7896361-f84b-4674-b190-7ba2a9ad95b6",
   "metadata": {},
   "outputs": [],
   "source": []
  }
 ],
 "metadata": {
  "kernelspec": {
   "display_name": "Python 3 (ipykernel)",
   "language": "python",
   "name": "python3"
  },
  "language_info": {
   "codemirror_mode": {
    "name": "ipython",
    "version": 3
   },
   "file_extension": ".py",
   "mimetype": "text/x-python",
   "name": "python",
   "nbconvert_exporter": "python",
   "pygments_lexer": "ipython3",
   "version": "3.9.12"
  }
 },
 "nbformat": 4,
 "nbformat_minor": 5
}
